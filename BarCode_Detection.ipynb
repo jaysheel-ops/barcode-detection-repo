{
  "nbformat": 4,
  "nbformat_minor": 0,
  "metadata": {
    "colab": {
      "provenance": []
    },
    "kernelspec": {
      "name": "python3",
      "display_name": "Python 3"
    },
    "language_info": {
      "name": "python"
    }
  },
  "cells": [
    {
      "cell_type": "code",
      "source": [
        "!apt-get update\n",
        "!apt-get install -y build-essential libzbar-dev\n",
        "!apt install python3-zbar"
      ],
      "metadata": {
        "id": "ff8-FxLJTAE9"
      },
      "execution_count": null,
      "outputs": []
    },
    {
      "cell_type": "code",
      "source": [
        "!pip install -q streamlit\n",
        "!pip install pyzbar"
      ],
      "metadata": {
        "colab": {
          "base_uri": "https://localhost:8080/"
        },
        "id": "8TA_6v-xTRBd",
        "outputId": "4fd5cbe1-3613-4c91-a60c-3dbe55990c21"
      },
      "execution_count": 2,
      "outputs": [
        {
          "output_type": "stream",
          "name": "stdout",
          "text": [
            "\u001b[2K     \u001b[90m━━━━━━━━━━━━━━━━━━━━━━━━━━━━━━━━━━━━━━━━\u001b[0m \u001b[32m8.4/8.4 MB\u001b[0m \u001b[31m50.2 MB/s\u001b[0m eta \u001b[36m0:00:00\u001b[0m\n",
            "\u001b[2K     \u001b[90m━━━━━━━━━━━━━━━━━━━━━━━━━━━━━━━━━━━━━━━━\u001b[0m \u001b[32m190.6/190.6 kB\u001b[0m \u001b[31m19.0 MB/s\u001b[0m eta \u001b[36m0:00:00\u001b[0m\n",
            "\u001b[2K     \u001b[90m━━━━━━━━━━━━━━━━━━━━━━━━━━━━━━━━━━━━━━━━\u001b[0m \u001b[32m4.8/4.8 MB\u001b[0m \u001b[31m92.9 MB/s\u001b[0m eta \u001b[36m0:00:00\u001b[0m\n",
            "\u001b[2K     \u001b[90m━━━━━━━━━━━━━━━━━━━━━━━━━━━━━━━━━━━━━━━━\u001b[0m \u001b[32m82.1/82.1 kB\u001b[0m \u001b[31m8.9 MB/s\u001b[0m eta \u001b[36m0:00:00\u001b[0m\n",
            "\u001b[2K     \u001b[90m━━━━━━━━━━━━━━━━━━━━━━━━━━━━━━━━━━━━━━━━\u001b[0m \u001b[32m62.7/62.7 kB\u001b[0m \u001b[31m5.9 MB/s\u001b[0m eta \u001b[36m0:00:00\u001b[0m\n",
            "\u001b[?25hCollecting pyzbar\n",
            "  Downloading pyzbar-0.1.9-py2.py3-none-any.whl (32 kB)\n",
            "Installing collected packages: pyzbar\n",
            "Successfully installed pyzbar-0.1.9\n"
          ]
        }
      ]
    },
    {
      "cell_type": "code",
      "source": [
        "!npm install localtunnel"
      ],
      "metadata": {
        "colab": {
          "base_uri": "https://localhost:8080/"
        },
        "id": "eDCa21rsv9GC",
        "outputId": "350935e2-7e41-49d0-836b-6cbefcae68a3"
      },
      "execution_count": 3,
      "outputs": [
        {
          "output_type": "stream",
          "name": "stdout",
          "text": [
            "\u001b[K\u001b[?25h\u001b[37;40mnpm\u001b[0m \u001b[0m\u001b[30;43mWARN\u001b[0m \u001b[0m\u001b[35msaveError\u001b[0m ENOENT: no such file or directory, open '/content/package.json'\n",
            "\u001b[K\u001b[?25h\u001b[37;40mnpm\u001b[0m \u001b[0m\u001b[34;40mnotice\u001b[0m\u001b[35m\u001b[0m created a lockfile as package-lock.json. You should commit this file.\n",
            "\u001b[0m\u001b[37;40mnpm\u001b[0m \u001b[0m\u001b[30;43mWARN\u001b[0m \u001b[0m\u001b[35menoent\u001b[0m ENOENT: no such file or directory, open '/content/package.json'\n",
            "\u001b[0m\u001b[37;40mnpm\u001b[0m \u001b[0m\u001b[30;43mWARN\u001b[0m\u001b[35m\u001b[0m content No description\n",
            "\u001b[0m\u001b[37;40mnpm\u001b[0m \u001b[0m\u001b[30;43mWARN\u001b[0m\u001b[35m\u001b[0m content No repository field.\n",
            "\u001b[0m\u001b[37;40mnpm\u001b[0m \u001b[0m\u001b[30;43mWARN\u001b[0m\u001b[35m\u001b[0m content No README data\n",
            "\u001b[0m\u001b[37;40mnpm\u001b[0m \u001b[0m\u001b[30;43mWARN\u001b[0m\u001b[35m\u001b[0m content No license field.\n",
            "\u001b[0m\n",
            "+ localtunnel@2.0.2\n",
            "added 22 packages from 22 contributors and audited 22 packages in 1.85s\n",
            "\n",
            "3 packages are looking for funding\n",
            "  run `npm fund` for details\n",
            "\n",
            "found 1 \u001b[93mmoderate\u001b[0m severity vulnerability\n",
            "  run `npm audit fix` to fix them, or `npm audit` for details\n"
          ]
        }
      ]
    },
    {
      "cell_type": "code",
      "source": [
        "!git clone https://github.com/jaysheel-ops/barcode-detection-repo"
      ],
      "metadata": {
        "id": "MMWAkuJHJoMG",
        "colab": {
          "base_uri": "https://localhost:8080/"
        },
        "outputId": "12433039-c865-4a4c-b3ef-094b413d91c0"
      },
      "execution_count": 4,
      "outputs": [
        {
          "output_type": "stream",
          "name": "stdout",
          "text": [
            "Cloning into 'barcode-detection-repo'...\n",
            "remote: Enumerating objects: 6, done.\u001b[K\n",
            "remote: Counting objects: 100% (6/6), done.\u001b[K\n",
            "remote: Compressing objects: 100% (6/6), done.\u001b[K\n",
            "Receiving objects: 100% (6/6), done.\n",
            "remote: Total 6 (delta 0), reused 0 (delta 0), pack-reused 0\u001b[K\n"
          ]
        }
      ]
    },
    {
      "cell_type": "code",
      "source": [
        "!mv barcode-detection-repo/* /content/"
      ],
      "metadata": {
        "id": "QTjFik_LsuZM"
      },
      "execution_count": 5,
      "outputs": []
    },
    {
      "cell_type": "code",
      "source": [
        "%%writefile app.py\n",
        "\n",
        "import streamlit as st\n",
        "from PIL import Image\n",
        "from pyzbar.pyzbar import decode\n",
        "import json\n",
        "from pathlib import Path\n",
        "\n",
        "\n",
        "file_path = Path(\"cart.json\")\n",
        "if not file_path.exists():\n",
        "    with open('cart.json', 'w') as f1:\n",
        "        f1.write(\"{\\n}\")\n",
        "\n",
        "# Define your custom function\n",
        "def run_scanner(image):\n",
        "    # Your custom logic here\n",
        "    # For demonstration purposes, let's just convert the image to grayscale\n",
        "    data = decode(image)[0][0]\n",
        "    return data\n",
        "\n",
        "# Pre-defined dictionary\n",
        "item_dictionary = {\n",
        "    \"02345673\": {'name': 'banana', 'price': '10'},\n",
        "    \"02345147\": {'name': 'apple', 'price': '30'},\n",
        "    \"06397126\": {'name': 'mango', 'price': '40'},\n",
        "    \"08679339\": {'name': 'pie', 'price': '50'}\n",
        "}\n",
        "\n",
        "\n",
        "def process_upc_e_binary(binary_input):\n",
        "    # Decode binary to string\n",
        "    decoded_string = binary_input.decode('utf-8')\n",
        "    decoded_string = decoded_string.replace(\"0000\", \"\")\n",
        "    decoded_string = decoded_string.replace(\"00000\", \"\")\n",
        "    decoded_string = decoded_string.replace(\"00\", \"0\")\n",
        "\n",
        "    return decoded_string\n",
        "\n",
        "def check_updated(uploaded_file, cart):\n",
        "    if uploaded_file.type.startswith('image/'):\n",
        "        st.image(uploaded_file, caption=\"Uploaded Image.\", use_column_width=True)\n",
        "\n",
        "        # Run the custom function\n",
        "        processed_image = run_scanner(Image.open(uploaded_file))\n",
        "\n",
        "        processed_data = process_upc_e_binary(processed_image)\n",
        "\n",
        "        if processed_data not in cart:\n",
        "            cart[processed_data] = 1\n",
        "        else:\n",
        "            cart[processed_data] += 1\n",
        "\n",
        "        json_object = json.dumps(cart, indent=4)\n",
        "        with open(\"cart.json\", \"r+\") as outfile:\n",
        "            outfile.write(json_object)\n",
        "\n",
        "        st.write(\"Items in cart (Name - Quantity)\")\n",
        "        for key, value in cart.items():\n",
        "            if key in item_dictionary:\n",
        "                value = item_dictionary[key]\n",
        "                st.write(f\"{value['name']} - {cart[key]}\")\n",
        "\n",
        "# Streamlit app\n",
        "def main():\n",
        "    st.title(\"Image Processing and Shopping Cart App\")\n",
        "    cart = json.load(open('cart.json', \"r+\"))\n",
        "\n",
        "    # Upload image through Streamlit\n",
        "    uploaded_file = st.file_uploader(\"Choose an image...\", type=[\"jpg\", \"png\", \"jpeg\"])\n",
        "    if uploaded_file:\n",
        "        # Check if the format is .jpg or .png\n",
        "        cart = check_updated(uploaded_file, cart)\n",
        "    else:\n",
        "        st.write(\"Items in cart (Name - Quantity)\")\n",
        "        for key, value in cart.items():\n",
        "            if key in item_dictionary:\n",
        "                value = item_dictionary[key]\n",
        "                st.write(f\"{value['name']} - {cart[key]}\")\n",
        "\n",
        "main()"
      ],
      "metadata": {
        "colab": {
          "base_uri": "https://localhost:8080/"
        },
        "id": "v0gqED1V6bDo",
        "outputId": "85266ccc-ad46-4fa7-bace-f30f558c2331"
      },
      "execution_count": 6,
      "outputs": [
        {
          "output_type": "stream",
          "name": "stdout",
          "text": [
            "Writing app.py\n"
          ]
        }
      ]
    },
    {
      "cell_type": "code",
      "source": [
        "!streamlit run app.py &>/content/logs.txt & curl ipv4.icanhazip.com\n",
        "!npx localtunnel --port 8501"
      ],
      "metadata": {
        "colab": {
          "base_uri": "https://localhost:8080/"
        },
        "id": "94w4HosH_JC_",
        "outputId": "790ccb15-0f73-4869-fb16-ec69760b208d"
      },
      "execution_count": null,
      "outputs": [
        {
          "output_type": "stream",
          "name": "stdout",
          "text": [
            "34.73.4.80\n",
            "\u001b[K\u001b[?25hnpx: installed 22 in 3.37s\n",
            "your url is: https://loose-lights-brush.loca.lt\n"
          ]
        }
      ]
    }
  ]
}